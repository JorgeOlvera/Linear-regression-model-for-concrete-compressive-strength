{
 "cells": [
  {
   "cell_type": "markdown",
   "metadata": {},
   "source": [
    "# Linear Regression Model for predicting the concrete compressive strength based on the concrete's ingredients and age"
   ]
  },
  {
   "cell_type": "markdown",
   "metadata": {},
   "source": [
    "Behroz Ahmad Ali\n",
    "\n",
    "bhrz.ali@gmail.com"
   ]
  },
  {
   "cell_type": "markdown",
   "metadata": {},
   "source": [
    "Compressive strength is the resistance of a material or structure to breaking under compressive forces. The compressive strength of concrete determines its performance during its service condition. Therefore the study of the concrete compressive strength is of immense importance.\n",
    "\n",
    "The charactersitics of concrete are dependent on the types of ingredients used and their proportions. The main constituents of concrete are cement, water and aggregates with varying proportions, but usually some other materials are also included in the mix to get the required compressive strength and properties.\n",
    "\n",
    "As the concrete dries up and hardens over time, its compressive strength increases. The required compressive strength of concrete can vary from 17 MPa for residential purposes up to 70 MPa for some commerical applications.\n",
    "\n",
    "The dataset used here has the concentrations of the constituents of concrete and its compressive strength after some number of days. The original owner of dataset is Prof. I-Cheng Yeh, Department of Information Management, \n",
    "Chung-Hua University, Taiwan. This dataset is freely available in UCI repository."
   ]
  },
  {
   "cell_type": "markdown",
   "metadata": {},
   "source": [
    "# Information about Dataset"
   ]
  },
  {
   "cell_type": "markdown",
   "metadata": {},
   "source": [
    "The following information has been taken from UCI repository. https://archive.ics.uci.edu/ml/datasets/Concrete+Compressive+Strength\n",
    "\n",
    "The information given in the dataset:\n",
    "\n",
    "Cement (component 1) -- quantitative -- kg in a m3 mixture -- Input Variable\n",
    "\n",
    "Blast Furnace Slag (component 2) -- quantitative -- kg in a m3 mixture -- Input Variable\n",
    "\n",
    "Fly Ash (component 3) -- quantitative -- kg in a m3 mixture -- Input Variable \n",
    "\n",
    "Water (component 4) -- quantitative -- kg in a m3 mixture -- Input Variable \n",
    "\n",
    "Superplasticizer (component 5) -- quantitative -- kg in a m3 mixture -- Input Variable \n",
    "\n",
    "Coarse Aggregate (component 6) -- quantitative -- kg in a m3 mixture -- Input Variable \n",
    "\n",
    "Fine Aggregate (component 7)\t-- quantitative -- kg in a m3 mixture -- Input Variable \n",
    "\n",
    "Age -- quantitative -- Day (1~365) -- Input Variable \n",
    "\n",
    "Concrete compressive strength -- quantitative -- MPa -- Output Variable"
   ]
  },
  {
   "cell_type": "markdown",
   "metadata": {},
   "source": [
    "# Linear Regression Model"
   ]
  },
  {
   "cell_type": "markdown",
   "metadata": {},
   "source": [
    "Here we will create a linear regression model that can predict the compressive strength of concrete based on its ingredients and age."
   ]
  },
  {
   "cell_type": "code",
   "execution_count": 1,
   "metadata": {
    "collapsed": false
   },
   "outputs": [],
   "source": [
    "concrete1 = read.csv(\"Concrete_Data.csv\",header=T,na.strings=\"?\")\n",
    "concrete1 = na.omit(concrete1)"
   ]
  },
  {
   "cell_type": "code",
   "execution_count": null,
   "metadata": {
    "collapsed": true
   },
   "outputs": [],
   "source": []
  }
 ],
 "metadata": {
  "kernelspec": {
   "display_name": "R",
   "language": "R",
   "name": "ir"
  },
  "language_info": {
   "codemirror_mode": "r",
   "file_extension": ".r",
   "mimetype": "text/x-r-source",
   "name": "R",
   "pygments_lexer": "r",
   "version": "3.2.2"
  }
 },
 "nbformat": 4,
 "nbformat_minor": 0
}
