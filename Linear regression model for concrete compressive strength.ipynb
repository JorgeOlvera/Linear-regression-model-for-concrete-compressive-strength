{
 "cells": [
  {
   "cell_type": "markdown",
   "metadata": {},
   "source": [
    "# Linear Regression Model for predicting the concrete compressive strength based on the concrete's ingredients and age"
   ]
  },
  {
   "cell_type": "markdown",
   "metadata": {},
   "source": [
    "Behroz Ahmad Ali\n",
    "\n",
    "bhrz.ali@gmail.com"
   ]
  },
  {
   "cell_type": "markdown",
   "metadata": {},
   "source": [
    "Compressive strength is the resistance of a material or structure to breaking under compressive forces. The compressive strength of concrete determines its performance during its service condition. Therefore the study of the concrete compressive strength is of immense importance.\n",
    "\n",
    "The charactersitics of concrete are dependent on the types of ingredients used and their proportions. The main constituents of concrete are cement, water and aggregates with varying proportions, but usually some other materials are also included in the mix to get the required compressive strength and properties.\n",
    "\n",
    "As the concrete dries up and hardens over time, its compressive strength increases. The required compressive strength of concrete can vary from 17 MPa for residential purposes up to 70 MPa for some commerical applications.\n",
    "\n",
    "The dataset used here has the concentrations of the constituents of concrete and its compressive strength after some number of days. The original owner of dataset is Prof. I-Cheng Yeh, Department of Information Management, \n",
    "Chung-Hua University, Taiwan. This dataset is freely available in UCI repository."
   ]
  },
  {
   "cell_type": "markdown",
   "metadata": {},
   "source": [
    "# Information about Dataset"
   ]
  },
  {
   "cell_type": "markdown",
   "metadata": {},
   "source": [
    "The following information has been taken from UCI repository. https://archive.ics.uci.edu/ml/datasets/Concrete+Compressive+Strength\n",
    "\n",
    "The information given in the dataset:\n",
    "\n",
    "Cement (component 1) -- quantitative -- kg in a m3 mixture -- Input Variable\n",
    "\n",
    "Blast Furnace Slag (component 2) -- quantitative -- kg in a m3 mixture -- Input Variable\n",
    "\n",
    "Fly Ash (component 3) -- quantitative -- kg in a m3 mixture -- Input Variable \n",
    "\n",
    "Water (component 4) -- quantitative -- kg in a m3 mixture -- Input Variable \n",
    "\n",
    "Superplasticizer (component 5) -- quantitative -- kg in a m3 mixture -- Input Variable \n",
    "\n",
    "Coarse Aggregate (component 6) -- quantitative -- kg in a m3 mixture -- Input Variable \n",
    "\n",
    "Fine Aggregate (component 7)\t-- quantitative -- kg in a m3 mixture -- Input Variable \n",
    "\n",
    "Age -- quantitative -- Day (1~365) -- Input Variable \n",
    "\n",
    "Concrete compressive strength -- quantitative -- MPa -- Output Variable"
   ]
  },
  {
   "cell_type": "markdown",
   "metadata": {},
   "source": [
    "# Linear Regression Model"
   ]
  },
  {
   "cell_type": "markdown",
   "metadata": {},
   "source": [
    "Here we will create a linear regression model that can predict the compressive strength of concrete based on its ingredients and age."
   ]
  },
  {
   "cell_type": "code",
   "execution_count": 6,
   "metadata": {
    "collapsed": false
   },
   "outputs": [],
   "source": [
    "#Read the data\n",
    "concrete1 = read.csv(\"Concrete_Data.csv\",header=T,na.strings=\"?\")\n",
    "#Remove rows with missing values if any.\n",
    "concrete1 = na.omit(concrete1)\n",
    "#Make the names of the headings shorter\n",
    "concrete = concrete1\n",
    "names(concrete) = c('cement_component','blast_furnace_slag','fly_ash','water','superplasticizer',\n",
    "                    'coarse_aggregate','fine_aggregate','age','compressive_strength')"
   ]
  },
  {
   "cell_type": "code",
   "execution_count": 13,
   "metadata": {
    "collapsed": true
   },
   "outputs": [],
   "source": [
    "#Creating a test data\n",
    "set.seed(5)\n",
    "test = sample(nrow(concrete),200)"
   ]
  },
  {
   "cell_type": "code",
   "execution_count": 17,
   "metadata": {
    "collapsed": false
   },
   "outputs": [
    {
     "data": {
      "text/plain": [
       "\n",
       "Call:\n",
       "lm(formula = compressive_strength ~ ., data = concrete, subset = -test)\n",
       "\n",
       "Residuals:\n",
       "    Min      1Q  Median      3Q     Max \n",
       "-28.663  -6.460   0.848   7.056  33.956 \n",
       "\n",
       "Coefficients:\n",
       "                     Estimate Std. Error t value Pr(>|t|)    \n",
       "(Intercept)        -21.785271  30.346643  -0.718 0.473035    \n",
       "cement_component     0.122450   0.009728  12.587  < 2e-16 ***\n",
       "blast_furnace_slag   0.105964   0.011604   9.131  < 2e-16 ***\n",
       "fly_ash              0.092771   0.014412   6.437 2.07e-10 ***\n",
       "water               -0.166748   0.045777  -3.643 0.000287 ***\n",
       "superplasticizer     0.207143   0.105462   1.964 0.049850 *  \n",
       "coarse_aggregate     0.017539   0.010728   1.635 0.102456    \n",
       "fine_aggregate       0.022011   0.012165   1.809 0.070763 .  \n",
       "age                  0.115364   0.006066  19.019  < 2e-16 ***\n",
       "---\n",
       "Signif. codes:  0 ‘***’ 0.001 ‘**’ 0.01 ‘*’ 0.05 ‘.’ 0.1 ‘ ’ 1\n",
       "\n",
       "Residual standard error: 10.62 on 821 degrees of freedom\n",
       "Multiple R-squared:  0.6131,\tAdjusted R-squared:  0.6094 \n",
       "F-statistic: 162.6 on 8 and 821 DF,  p-value: < 2.2e-16\n"
      ]
     },
     "metadata": {},
     "output_type": "display_data"
    }
   ],
   "source": [
    "#Creating a Linear Regression model using all the attributes (Input Variable).\n",
    "lm.model = lm(compressive_strength~.,data=concrete,subset=-test)\n",
    "summary(lm.model)"
   ]
  },
  {
   "cell_type": "code",
   "execution_count": 23,
   "metadata": {
    "collapsed": false
   },
   "outputs": [
    {
     "data": {
      "text/html": [
       "90.1101752537359"
      ],
      "text/latex": [
       "90.1101752537359"
      ],
      "text/markdown": [
       "90.1101752537359"
      ],
      "text/plain": [
       "[1] 90.11018"
      ]
     },
     "metadata": {},
     "output_type": "display_data"
    }
   ],
   "source": [
    "#Mean Squared Error of the lm.model on the test data\n",
    "predict_strength = predict(lm.model,concrete[test,])\n",
    "mean((concrete[test,]$compressive_strength-predict_strength)^2)"
   ]
  },
  {
   "cell_type": "markdown",
   "metadata": {},
   "source": [
    "## p-values"
   ]
  },
  {
   "cell_type": "markdown",
   "metadata": {},
   "source": [
    "As we can see the p-values of the t-statistic of all the coefficients are close to zero except for that of coarse_aggregate and fine_aggregate. This indicates that other than the coefficients of coarse_aggregate and fine_aggregate, all the other coefficients of the model are significant for the accuracy of the fit."
   ]
  },
  {
   "cell_type": "code",
   "execution_count": 18,
   "metadata": {
    "collapsed": false
   },
   "outputs": [
    {
     "data": {
      "text/plain": [
       "\n",
       "Call:\n",
       "lm(formula = compressive_strength ~ . - coarse_aggregate - fine_aggregate, \n",
       "    data = concrete, subset = -test)\n",
       "\n",
       "Residuals:\n",
       "    Min      1Q  Median      3Q     Max \n",
       "-30.291  -6.272   0.700   6.876  34.039 \n",
       "\n",
       "Coefficients:\n",
       "                    Estimate Std. Error t value Pr(>|t|)    \n",
       "(Intercept)        32.130338   4.807333   6.684 4.30e-11 ***\n",
       "cement_component    0.107023   0.004816  22.221  < 2e-16 ***\n",
       "blast_furnace_slag  0.087499   0.005661  15.458  < 2e-16 ***\n",
       "fly_ash             0.071776   0.008681   8.268 5.45e-16 ***\n",
       "water              -0.236707   0.023979  -9.871  < 2e-16 ***\n",
       "superplasticizer    0.169648   0.095845   1.770   0.0771 .  \n",
       "age                 0.114440   0.006039  18.949  < 2e-16 ***\n",
       "---\n",
       "Signif. codes:  0 ‘***’ 0.001 ‘**’ 0.01 ‘*’ 0.05 ‘.’ 0.1 ‘ ’ 1\n",
       "\n",
       "Residual standard error: 10.63 on 823 degrees of freedom\n",
       "Multiple R-squared:  0.6116,\tAdjusted R-squared:  0.6087 \n",
       "F-statistic:   216 on 6 and 823 DF,  p-value: < 2.2e-16\n"
      ]
     },
     "metadata": {},
     "output_type": "display_data"
    }
   ],
   "source": [
    "#Removing the coarse_aggregate and fine_aggregate attributes from the model\n",
    "lm.model2 = lm(compressive_strength~.-coarse_aggregate-fine_aggregate,data=concrete,subset=-test)\n",
    "summary(lm.model2)"
   ]
  },
  {
   "cell_type": "code",
   "execution_count": 24,
   "metadata": {
    "collapsed": false
   },
   "outputs": [
    {
     "data": {
      "text/html": [
       "90.2706287255054"
      ],
      "text/latex": [
       "90.2706287255054"
      ],
      "text/markdown": [
       "90.2706287255054"
      ],
      "text/plain": [
       "[1] 90.27063"
      ]
     },
     "metadata": {},
     "output_type": "display_data"
    }
   ],
   "source": [
    "#Mean Squared Error of the lm.model2 on test data\n",
    "predict_strength2 = predict(lm.model2,concrete[test,])\n",
    "mean((concrete[test,]$compressive_strength-predict_strength2)^2)"
   ]
  },
  {
   "cell_type": "markdown",
   "metadata": {},
   "source": [
    "Removal of \"coarse_aggregate\" and \"fine_aggregate\" attributes doesn't improve the R-squared value of the model and the mean squared error of the model on the test data doesn't decrease. Therefore we will go ahead with the first model, lm.model."
   ]
  },
  {
   "cell_type": "markdown",
   "metadata": {},
   "source": [
    "## Residual Standard Error"
   ]
  },
  {
   "cell_type": "code",
   "execution_count": 34,
   "metadata": {
    "collapsed": false
   },
   "outputs": [
    {
     "data": {
      "text/html": [
       "10.6166364099954"
      ],
      "text/latex": [
       "10.6166364099954"
      ],
      "text/markdown": [
       "10.6166364099954"
      ],
      "text/plain": [
       "[1] 10.61664"
      ]
     },
     "metadata": {},
     "output_type": "display_data"
    }
   ],
   "source": [
    "#Residual Standard Error of lm.model\n",
    "sqrt(deviance(lm.model)/lm.model$df.residual)"
   ]
  },
  {
   "cell_type": "code",
   "execution_count": 36,
   "metadata": {
    "collapsed": false
   },
   "outputs": [
    {
     "data": {
      "text/html": [
       "35.9509545058014"
      ],
      "text/latex": [
       "35.9509545058014"
      ],
      "text/markdown": [
       "35.9509545058014"
      ],
      "text/plain": [
       "[1] 35.95095"
      ]
     },
     "metadata": {},
     "output_type": "display_data"
    }
   ],
   "source": [
    "#Mean response of the dataset\n",
    "mean(concrete[-test,]$compressive_strength)"
   ]
  },
  {
   "cell_type": "markdown",
   "metadata": {},
   "source": [
    "The residual standard error of lm.model is around 10.62 and the mean response is about 36.00. The error rate is as following."
   ]
  },
  {
   "cell_type": "code",
   "execution_count": 37,
   "metadata": {
    "collapsed": false
   },
   "outputs": [
    {
     "data": {
      "text/html": [
       "29.5"
      ],
      "text/latex": [
       "29.5"
      ],
      "text/markdown": [
       "29.5"
      ],
      "text/plain": [
       "[1] 29.5"
      ]
     },
     "metadata": {},
     "output_type": "display_data"
    }
   ],
   "source": [
    "#Error rate\n",
    "10.62/36*100"
   ]
  },
  {
   "cell_type": "markdown",
   "metadata": {},
   "source": [
    "## R-squared value"
   ]
  },
  {
   "cell_type": "markdown",
   "metadata": {},
   "source": [
    "$$TSS = \\sum \\left ( y_{i}-\\bar{y} \\right )^{2}$$\n",
    "\n",
    "$$RSS = \\sum \\left ( y_{i}-\\hat{y} \\right )^{2}$$\n",
    "\n",
    "$$R^{2} = \\frac{TSS-RSS}{TSS}$$"
   ]
  },
  {
   "cell_type": "code",
   "execution_count": 40,
   "metadata": {
    "collapsed": false
   },
   "outputs": [
    {
     "data": {
      "text/html": [
       "0.613134978332615"
      ],
      "text/latex": [
       "0.613134978332615"
      ],
      "text/markdown": [
       "0.613134978332615"
      ],
      "text/plain": [
       "[1] 0.613135"
      ]
     },
     "metadata": {},
     "output_type": "display_data"
    }
   ],
   "source": [
    "summary(lm.model)$r.squared"
   ]
  },
  {
   "cell_type": "markdown",
   "metadata": {},
   "source": [
    "The R-squared value of lm.model is 0.61. This indicates that 61% of the variability in the response has been explained by the model."
   ]
  },
  {
   "cell_type": "markdown",
   "metadata": {},
   "source": [
    "## Correlation between response in the test data and the response of lm.model"
   ]
  },
  {
   "cell_type": "code",
   "execution_count": 44,
   "metadata": {
    "collapsed": false
   },
   "outputs": [
    {
     "data": {
      "text/html": [
       "0.790447328395033"
      ],
      "text/latex": [
       "0.790447328395033"
      ],
      "text/markdown": [
       "0.790447328395033"
      ],
      "text/plain": [
       "[1] 0.7904473"
      ]
     },
     "metadata": {},
     "output_type": "display_data"
    }
   ],
   "source": [
    "cor(concrete[test,]$compressive_strength,predict(lm.model,concrete[test,]))"
   ]
  },
  {
   "cell_type": "markdown",
   "metadata": {},
   "source": [
    "There is a correlation of approximately 0.8 between the response in the test data and the output of lm.model. This is a reasonable amount of correlation. Which shows that our model fits the test data very well."
   ]
  },
  {
   "cell_type": "markdown",
   "metadata": {},
   "source": [
    "## Comparison of mean squared error between training data and test data"
   ]
  },
  {
   "cell_type": "code",
   "execution_count": 46,
   "metadata": {
    "collapsed": false
   },
   "outputs": [
    {
     "data": {
      "text/html": [
       "111.490779845222"
      ],
      "text/latex": [
       "111.490779845222"
      ],
      "text/markdown": [
       "111.490779845222"
      ],
      "text/plain": [
       "[1] 111.4908"
      ]
     },
     "metadata": {},
     "output_type": "display_data"
    }
   ],
   "source": [
    "#Mean squared error of lm.model on training data\n",
    "mean((concrete[-test,]$compressive_strength-predict(lm.model,concrete[-test,]))^2)"
   ]
  },
  {
   "cell_type": "code",
   "execution_count": 47,
   "metadata": {
    "collapsed": false
   },
   "outputs": [
    {
     "data": {
      "text/html": [
       "90.1101752537359"
      ],
      "text/latex": [
       "90.1101752537359"
      ],
      "text/markdown": [
       "90.1101752537359"
      ],
      "text/plain": [
       "[1] 90.11018"
      ]
     },
     "metadata": {},
     "output_type": "display_data"
    }
   ],
   "source": [
    "#Mean squared error of lm.model on test data\n",
    "mean((concrete[test,]$compressive_strength-predict(lm.model,concrete[test,]))^2)"
   ]
  },
  {
   "cell_type": "markdown",
   "metadata": {},
   "source": [
    "## Testing a model on a single new data"
   ]
  },
  {
   "cell_type": "code",
   "execution_count": 49,
   "metadata": {
    "collapsed": false
   },
   "outputs": [
    {
     "data": {
      "text/html": [
       "<table>\n",
       "<thead><tr><th></th><th scope=col>fit</th><th scope=col>lwr</th><th scope=col>upr</th></tr></thead>\n",
       "<tbody>\n",
       "\t<tr><th scope=row>1</th><td>28.67073</td><td>22.72917</td><td>34.61229</td></tr>\n",
       "</tbody>\n",
       "</table>\n"
      ],
      "text/latex": [
       "\\begin{tabular}{r|lll}\n",
       "  & fit & lwr & upr\\\\\n",
       "\\hline\n",
       "\t1 & 28.67073 & 22.72917 & 34.61229\\\\\n",
       "\\end{tabular}\n"
      ],
      "text/markdown": [
       "\n",
       "| <!--/--> | fit | lwr | upr | \n",
       "|---|\n",
       "| 1 | 28.67073 | 22.72917 | 34.61229 | \n",
       "\n",
       "\n"
      ],
      "text/plain": [
       "  fit      lwr      upr     \n",
       "1 28.67073 22.72917 34.61229"
      ]
     },
     "metadata": {},
     "output_type": "display_data"
    }
   ],
   "source": [
    "new_data = data.frame(cement_component=310,\n",
    "                     blast_furnace_slag=0,\n",
    "                     fly_ash=0,\n",
    "                     water=150,\n",
    "                     superplasticizer=5,\n",
    "                     coarse_aggregate=1047,\n",
    "                     fine_aggregate=676,\n",
    "                     age=28)\n",
    "predict(lm.model,new_data,interval=\"confidence\")"
   ]
  }
 ],
 "metadata": {
  "kernelspec": {
   "display_name": "R",
   "language": "R",
   "name": "ir"
  },
  "language_info": {
   "codemirror_mode": "r",
   "file_extension": ".r",
   "mimetype": "text/x-r-source",
   "name": "R",
   "pygments_lexer": "r",
   "version": "3.2.2"
  }
 },
 "nbformat": 4,
 "nbformat_minor": 0
}
